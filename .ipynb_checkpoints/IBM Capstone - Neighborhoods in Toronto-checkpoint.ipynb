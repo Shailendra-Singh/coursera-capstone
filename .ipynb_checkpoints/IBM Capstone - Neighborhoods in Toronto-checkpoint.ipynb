{
 "cells": [
  {
   "cell_type": "markdown",
   "metadata": {},
   "source": [
    "# Part 1 - Scraping Wikipedia"
   ]
  },
  {
   "cell_type": "code",
   "execution_count": 97,
   "metadata": {},
   "outputs": [],
   "source": [
    "# Import Modules\n",
    "from html.parser import HTMLParser\n",
    "import requests\n",
    "import re\n",
    "import pandas as pd"
   ]
  },
  {
   "cell_type": "code",
   "execution_count": 98,
   "metadata": {},
   "outputs": [],
   "source": [
    "# Fetch target HTML page\n",
    "canada_postal_codes_url = r\"https://en.wikipedia.org/wiki/List_of_postal_codes_of_Canada:_M\"\n",
    "response = requests.get(canada_postal_codes_url)\n",
    "page_html = response.content.decode(\"utf-8\")"
   ]
  },
  {
   "cell_type": "code",
   "execution_count": 99,
   "metadata": {},
   "outputs": [],
   "source": [
    "# Extract Toronto FSAs\n",
    "pattern = \"\\<table([\\S\\s]*)\\<\\/table\\>\"\n",
    "matches = re.search(pattern, page_html)\n",
    "table_body = matches.group(0)"
   ]
  },
  {
   "cell_type": "code",
   "execution_count": 100,
   "metadata": {},
   "outputs": [],
   "source": [
    "# Clean table body text\n",
    "# Clean Text\n",
    "table_body = table_body.replace('<table class=\"wikitable sortable\">', '')\n",
    "table_body = table_body.replace('</table>', '')\n",
    "table_body = table_body.strip()"
   ]
  },
  {
   "cell_type": "code",
   "execution_count": 101,
   "metadata": {},
   "outputs": [],
   "source": [
    "# Define custom HTML parser\n",
    "class Parser(HTMLParser):\n",
    "    # Initialize tracker variables\n",
    "    def __init__(self, *args, **kwargs):\n",
    "        super().__init__(*args, **kwargs)\n",
    "        self.rows = [ ]\n",
    "        self.col = [ ]\n",
    "        self.buffer = [ ]\n",
    "\n",
    "    # method to track the start tr tag.\n",
    "    def handle_starttag(self, tag, attrs):\n",
    "        if tag == \"tr\":\n",
    "            self.buffer = [ ]\n",
    "        else:\n",
    "            pass\n",
    "\n",
    "    # method to track the end tr tag.\n",
    "    def handle_endtag(self, tag):\n",
    "        if tag == \"tr\":\n",
    "            self.col = self.buffer[:]\n",
    "            self.rows.append(self.col)\n",
    "        else:\n",
    "            pass\n",
    "\n",
    "    # method to append the data between the tr tags to the buffer.\n",
    "    def handle_data(self, data):\n",
    "        self.buffer.append(data.strip())\n",
    "\n",
    "    # Clean rows and return rows.\n",
    "    def get_rows(self):\n",
    "        cleaned_rows=[ ]\n",
    "        for row in parser.rows:\n",
    "            if len(row)<=6:\n",
    "                _row = [row[x] for x in range(len(row)) if x%2!=0]\n",
    "                cleaned_rows.append(_row)\n",
    "        return cleaned_rows\n"
   ]
  },
  {
   "cell_type": "code",
   "execution_count": 102,
   "metadata": {},
   "outputs": [],
   "source": [
    "# Scrape all data items in HTML\n",
    "parser = Parser()\n",
    "parser.feed(table_body)\n",
    "rows = parser.get_rows()"
   ]
  },
  {
   "cell_type": "markdown",
   "metadata": {},
   "source": [
    "### Data Preprocessing"
   ]
  },
  {
   "cell_type": "markdown",
   "metadata": {},
   "source": [
    "**Condition** : If a cell has a borough but a Not assigned neighborhood, then the neighborhood will be the same as the borough."
   ]
  },
  {
   "cell_type": "code",
   "execution_count": 103,
   "metadata": {},
   "outputs": [],
   "source": [
    "rd = {}\n",
    "# Initialize Cleaning Dictionary\n",
    "for row in rows[1:]:\n",
    "    # If a cell has a borough but a Not assigned neighborhood,\n",
    "    # then the neighborhood will be the same as the borough.\n",
    "    if row[1] and not row[2]:\n",
    "        rd[row[0]] = [row[1],[row[1]]]\n",
    "    else:\n",
    "        rd[row[0]]=[row[1],[row[2]]]"
   ]
  },
  {
   "cell_type": "markdown",
   "metadata": {},
   "source": [
    "**Condition** : More than one neighborhood can exist in one postal code area "
   ]
  },
  {
   "cell_type": "code",
   "execution_count": 104,
   "metadata": {},
   "outputs": [],
   "source": [
    "for row in rows[1:]:\n",
    "    # More than one neighborhood can exist in one postal code area \n",
    "    if not rd[row[0]][1]:\n",
    "        rd[row[0]][1].append(row[2])    \n",
    "    else:\n",
    "        rd[row[0]][1] = [row[2]]"
   ]
  },
  {
   "cell_type": "code",
   "execution_count": 105,
   "metadata": {},
   "outputs": [],
   "source": [
    "# Create DataFrame\n",
    "df = pd.DataFrame(columns = rows[0])\n",
    "for key, value_list in rd.items():\n",
    "    data={k:v for k,v in zip(df.columns, (key, value_list[0], \",\".join(value_list[1])))}\n",
    "    df=df.append(data, ignore_index=True)"
   ]
  },
  {
   "cell_type": "markdown",
   "metadata": {},
   "source": [
    "**Cleaning Dataframe**"
   ]
  },
  {
   "cell_type": "code",
   "execution_count": 106,
   "metadata": {},
   "outputs": [],
   "source": [
    "# Only process the cells that have an assigned borough. Ignore cells with a borough that is Not assigned.\n",
    "df = df[df['Borough']!= \"Not assigned\"]"
   ]
  },
  {
   "cell_type": "code",
   "execution_count": 107,
   "metadata": {},
   "outputs": [],
   "source": [
    "# Reset Indexes\n",
    "df.reset_index(drop=True, inplace=True)"
   ]
  },
  {
   "cell_type": "code",
   "execution_count": 108,
   "metadata": {
    "scrolled": true
   },
   "outputs": [
    {
     "data": {
      "text/html": [
       "<div>\n",
       "<style scoped>\n",
       "    .dataframe tbody tr th:only-of-type {\n",
       "        vertical-align: middle;\n",
       "    }\n",
       "\n",
       "    .dataframe tbody tr th {\n",
       "        vertical-align: top;\n",
       "    }\n",
       "\n",
       "    .dataframe thead th {\n",
       "        text-align: right;\n",
       "    }\n",
       "</style>\n",
       "<table border=\"1\" class=\"dataframe\">\n",
       "  <thead>\n",
       "    <tr style=\"text-align: right;\">\n",
       "      <th></th>\n",
       "      <th>Postal Code</th>\n",
       "      <th>Borough</th>\n",
       "      <th>Neighborhood</th>\n",
       "    </tr>\n",
       "  </thead>\n",
       "  <tbody>\n",
       "    <tr>\n",
       "      <th>0</th>\n",
       "      <td>M3A</td>\n",
       "      <td>North York</td>\n",
       "      <td>Parkwoods</td>\n",
       "    </tr>\n",
       "    <tr>\n",
       "      <th>1</th>\n",
       "      <td>M4A</td>\n",
       "      <td>North York</td>\n",
       "      <td>Victoria Village</td>\n",
       "    </tr>\n",
       "    <tr>\n",
       "      <th>2</th>\n",
       "      <td>M5A</td>\n",
       "      <td>Downtown Toronto</td>\n",
       "      <td>Regent Park, Harbourfront</td>\n",
       "    </tr>\n",
       "    <tr>\n",
       "      <th>3</th>\n",
       "      <td>M6A</td>\n",
       "      <td>North York</td>\n",
       "      <td>Lawrence Manor, Lawrence Heights</td>\n",
       "    </tr>\n",
       "    <tr>\n",
       "      <th>4</th>\n",
       "      <td>M7A</td>\n",
       "      <td>Downtown Toronto</td>\n",
       "      <td>Queen's Park, Ontario Provincial Government</td>\n",
       "    </tr>\n",
       "  </tbody>\n",
       "</table>\n",
       "</div>"
      ],
      "text/plain": [
       "  Postal Code           Borough                                 Neighborhood\n",
       "0         M3A        North York                                    Parkwoods\n",
       "1         M4A        North York                             Victoria Village\n",
       "2         M5A  Downtown Toronto                    Regent Park, Harbourfront\n",
       "3         M6A        North York             Lawrence Manor, Lawrence Heights\n",
       "4         M7A  Downtown Toronto  Queen's Park, Ontario Provincial Government"
      ]
     },
     "execution_count": 108,
     "metadata": {},
     "output_type": "execute_result"
    }
   ],
   "source": [
    "df.head()"
   ]
  },
  {
   "cell_type": "code",
   "execution_count": 109,
   "metadata": {},
   "outputs": [
    {
     "data": {
      "text/plain": [
       "(103, 3)"
      ]
     },
     "execution_count": 109,
     "metadata": {},
     "output_type": "execute_result"
    }
   ],
   "source": [
    "df.shape"
   ]
  }
 ],
 "metadata": {
  "kernelspec": {
   "display_name": "Python 3.7.6 64-bit ('py37': conda)",
   "language": "python",
   "name": "python37664bitpy37conda31c65995f7ec4d20a572162beb0b56fb"
  },
  "language_info": {
   "codemirror_mode": {
    "name": "ipython",
    "version": 3
   },
   "file_extension": ".py",
   "mimetype": "text/x-python",
   "name": "python",
   "nbconvert_exporter": "python",
   "pygments_lexer": "ipython3",
   "version": "3.7.6"
  }
 },
 "nbformat": 4,
 "nbformat_minor": 4
}
